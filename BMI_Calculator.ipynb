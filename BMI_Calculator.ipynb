{
  "nbformat": 4,
  "nbformat_minor": 0,
  "metadata": {
    "colab": {
      "provenance": []
    },
    "kernelspec": {
      "name": "python3",
      "display_name": "Python 3"
    },
    "language_info": {
      "name": "python"
    }
  },
  "cells": [
    {
      "cell_type": "markdown",
      "source": [
        "**BMI Calculator**"
      ],
      "metadata": {
        "id": "3IHAhtlwqC2_"
      }
    },
    {
      "cell_type": "code",
      "source": [
        "name=input(\"Enter your name \")\n",
        "weight=input(\"Enter your weight in pounds \")\n",
        "height=input(\"Enter your height in inches \")\n",
        "weight=int(weight)\n",
        "height=int(height)\n",
        "bmi=(weight*703)/(height*height)\n",
        "print(bmi)\n",
        "\n",
        "if bmi > 0:\n",
        "    if(bmi<18.5):\n",
        "        print(name +\" You are underweight\")\n",
        "    elif(bmi<=24.9):\n",
        "        print(name +\" You are normal weight\")\n",
        "    elif(bmi<29.9):\n",
        "        print(name +\" You are overweight\")\n",
        "    elif(bmi<34.9):\n",
        "        print(name +\" You are obese\")\n",
        "    elif(bmi<39.9):\n",
        "        print(name +\" You are severely obese\")\n",
        "\n",
        "    else:\n",
        "        print(name +\" You are severely obese\")\n",
        "else:\n",
        "    print(\"Enter valid inputs\")"
      ],
      "metadata": {
        "id": "ZUFCSUFKuUGn"
      },
      "execution_count": null,
      "outputs": []
    }
  ]
}